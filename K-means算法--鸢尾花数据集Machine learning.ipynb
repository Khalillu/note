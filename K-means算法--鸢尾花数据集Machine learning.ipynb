{
 "cells": [
  {
   "cell_type": "code",
   "id": "initial_id",
   "metadata": {
    "collapsed": true,
    "ExecuteTime": {
     "end_time": "2025-02-18T18:22:49.457350Z",
     "start_time": "2025-02-18T18:22:49.449160Z"
    }
   },
   "source": [
    "import numpy as np\n",
    "from sklearn.datasets import load_iris\n",
    "\n",
    "class KMeans:\n",
    "    def __init__(self, n_clusters = 3, max_iters = 100, random_state=42):\n",
    "\n",
    "        #n_clusters 聚类数量（K）     max_iters 最大迭代次数    random_state 随机种子\n",
    "        self.n_clusters = n_clusters\n",
    "        self.max_iters = max_iters\n",
    "        self.random_state = random_state\n",
    "        self.centroids = None   # 聚类中心\n",
    "        self.labels = None      # 每个样本的聚类标签\n",
    "\n",
    "    def initialize_centroids(self,X):\n",
    "\n",
    "        #初始化聚类中心\n",
    "        np.random.seed(self.random_state)\n",
    "        #X.shape[0]返回数据集的样本数量   X 是输入数据集，通常是一个二维数组，形状为 (n_samples, n_features)\n",
    "        #np.random.choice 用于从给定的一维数组中随机选择元素。\n",
    "        # X.shape 所选取的数组    self.n_clusters 输出的数组大小 replace = False 不允许重复\n",
    "        random_indices = np.random.choice(X.shape[0], self.n_clusters, replace = False)\n",
    "        #X[random_indices] 使用 random_indices 从数据集 X 中提取对应的样本。提取的样本将作为初始聚类中心。self.centroids 是一个二维数组，形状为 (self.n_clusters, n_features)，表示每个聚类中心的特征值。\n",
    "        self.centroids = X[random_indices]\n",
    "\n",
    "    def compute_distances(self,X):\n",
    "\n",
    "        #np.zeros 是 NumPy 提供的一个函数，用于创建一个全零数组。语法：np.zeros(shape, dtype=float)shape：数组的形状。dtype：数组的数据类型（默认为 float）。\n",
    "        distances = np.zeros((X.shape[0], self.n_clusters))\n",
    "        #distances[i, j] 表示第 i 个样本到第 j 个聚类中心的距离？deepseek如是说，不知道正确还是错误\n",
    "        for i, centroid in enumerate(self.centroids):\n",
    "            distances[:, i] = np.linalg.norm(X - centroid, axis=1)\n",
    "        return distances\n",
    "        #for循环完全没有看懂\n",
    "\n",
    "    def assign_clusters(self,distances):\n",
    "\n",
    "        return np.argmin(distances, axis=1)\n",
    "\n",
    "    def update_centroids(self, X, labels):\n",
    "\n",
    "        new_centroids = np.zeros((self.n_clusters, X.shape[1]))\n",
    "        for i in range(self.n_clusters):\n",
    "            new_centroids[i] = np.mean(X[labels == i], axis=0)\n",
    "        self.centroids = new_centroids\n",
    "\n",
    "    def fit(self,X):\n",
    "\n",
    "        self.initialize_centroids(X)\n",
    "\n",
    "        for _ in range(self.max_iters):\n",
    "\n",
    "            distances = self.compute_distances(X)\n",
    "            self.labels = self.assign_clusters(distances)\n",
    "            old_centroids = self.centroids.copy()\n",
    "            self.update_centroids(X, self.labels)\n",
    "\n",
    "            if np.allclose(old_centroids, self.centroids):\n",
    "                break\n",
    "\n",
    "    def predict(self, X):\n",
    "\n",
    "        distances = self.compute_distances(X)\n",
    "        return self.assign_clusters(distances)\n",
    "\n",
    "iris = load_iris()\n",
    "X = iris.data\n",
    "y = iris.target\n",
    "\n",
    "kmeans = KMeans(n_clusters=3, max_iters=100, random_state=42)\n",
    "kmeans.fit(X)\n",
    "\n",
    "print(\"聚类中心：\\n\",kmeans.centroids)\n",
    "print(\"聚类标签：\\n\",kmeans.labels)\n",
    "\n",
    "new_data = np.array([[5.1,3.5,1.4,0.2],[6.7,3.0,5.2,2.3]])\n",
    "predicted_labels = kmeans.predict(new_data)\n",
    "print(\"新数据的聚类标签：\",predicted_labels)\n",
    "\n",
    "\n"
   ],
   "outputs": [
    {
     "name": "stdout",
     "output_type": "stream",
     "text": [
      "聚类中心：\n",
      " [[5.9016129  2.7483871  4.39354839 1.43387097]\n",
      " [5.006      3.428      1.462      0.246     ]\n",
      " [6.85       3.07368421 5.74210526 2.07105263]]\n",
      "聚类标签：\n",
      " [1 1 1 1 1 1 1 1 1 1 1 1 1 1 1 1 1 1 1 1 1 1 1 1 1 1 1 1 1 1 1 1 1 1 1 1 1\n",
      " 1 1 1 1 1 1 1 1 1 1 1 1 1 0 0 2 0 0 0 0 0 0 0 0 0 0 0 0 0 0 0 0 0 0 0 0 0\n",
      " 0 0 0 2 0 0 0 0 0 0 0 0 0 0 0 0 0 0 0 0 0 0 0 0 0 0 2 0 2 2 2 2 0 2 2 2 2\n",
      " 2 2 0 0 2 2 2 2 0 2 0 2 0 2 2 0 0 2 2 2 2 2 0 2 2 2 2 0 2 2 2 0 2 2 2 0 2\n",
      " 2 0]\n",
      "新数据的聚类标签： [1 2]\n"
     ]
    }
   ],
   "execution_count": 2
  },
  {
   "metadata": {
    "ExecuteTime": {
     "end_time": "2025-02-18T18:17:09.907792Z",
     "start_time": "2025-02-18T18:17:09.905909Z"
    }
   },
   "cell_type": "code",
   "source": "",
   "id": "626c2714b6b70075",
   "outputs": [],
   "execution_count": null
  },
  {
   "metadata": {
    "ExecuteTime": {
     "end_time": "2025-02-18T18:17:43.281602Z",
     "start_time": "2025-02-18T18:17:43.279550Z"
    }
   },
   "cell_type": "code",
   "source": "",
   "id": "1ee0d3bc10bf6c71",
   "outputs": [],
   "execution_count": null
  },
  {
   "metadata": {},
   "cell_type": "code",
   "outputs": [],
   "execution_count": null,
   "source": "",
   "id": "fe12254e4414f27d"
  }
 ],
 "metadata": {
  "kernelspec": {
   "display_name": "Python 3",
   "language": "python",
   "name": "python3"
  },
  "language_info": {
   "codemirror_mode": {
    "name": "ipython",
    "version": 2
   },
   "file_extension": ".py",
   "mimetype": "text/x-python",
   "name": "python",
   "nbconvert_exporter": "python",
   "pygments_lexer": "ipython2",
   "version": "2.7.6"
  }
 },
 "nbformat": 4,
 "nbformat_minor": 5
}
