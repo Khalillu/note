{
 "cells": [
  {
   "cell_type": "code",
   "id": "initial_id",
   "metadata": {
    "collapsed": true,
    "ExecuteTime": {
     "end_time": "2025-02-24T11:50:57.367395Z",
     "start_time": "2025-02-24T11:50:53.869968Z"
    }
   },
   "source": [
    "import matplotlib\n",
    "matplotlib.use('TkAgg')\n",
    "import numpy as np\n",
    "import matplotlib.pyplot as plt\n",
    "x = np.arange(0,1.1,0.01)\n",
    "y1=x**2\n",
    "y2=x**4\n",
    "plt.title('quxian')\n",
    "plt.xlabel('x')\n",
    "plt.ylabel('y')\n",
    "plt.xlim((0,1))\n",
    "plt.ylim((0,1))\n",
    "plt.xticks([0,0.2,0.4,0.6,0.8,1])\n",
    "plt.yticks([0,0.2,0.4,0.6,0.8,1])\n",
    "plt.plot(x,y1)\n",
    "plt.plot(x,y2)\n",
    "plt.legend(['y=x^2','y=x^4'])\n",
    "plt.savefig('../luxf/y=x^2.png')\n",
    "plt.show()"
   ],
   "outputs": [],
   "execution_count": 1
  },
  {
   "metadata": {
    "ExecuteTime": {
     "end_time": "2025-01-27T06:37:44.732767Z",
     "start_time": "2025-01-27T06:37:44.730574Z"
    }
   },
   "cell_type": "code",
   "source": "",
   "id": "1f5ec663792af2ed",
   "outputs": [],
   "execution_count": null
  },
  {
   "metadata": {
    "ExecuteTime": {
     "end_time": "2025-01-27T05:14:22.962529Z",
     "start_time": "2025-01-27T05:14:22.961242Z"
    }
   },
   "cell_type": "code",
   "source": "",
   "id": "ccc9ece71c775aeb",
   "outputs": [],
   "execution_count": null
  },
  {
   "metadata": {
    "ExecuteTime": {
     "end_time": "2025-01-27T05:01:28.952041Z",
     "start_time": "2025-01-27T05:01:28.950746Z"
    }
   },
   "cell_type": "code",
   "source": "",
   "id": "3882704ef6bf6008",
   "outputs": [],
   "execution_count": null
  },
  {
   "metadata": {
    "ExecuteTime": {
     "end_time": "2025-01-27T05:01:29.078397Z",
     "start_time": "2025-01-27T05:01:29.077099Z"
    }
   },
   "cell_type": "code",
   "source": "",
   "id": "7c7db1cb9dbaa9d6",
   "outputs": [],
   "execution_count": null
  },
  {
   "metadata": {
    "ExecuteTime": {
     "end_time": "2025-01-27T05:01:29.252054Z",
     "start_time": "2025-01-27T05:01:29.250434Z"
    }
   },
   "cell_type": "code",
   "source": "",
   "id": "cb453f4e7b46af22",
   "outputs": [],
   "execution_count": null
  },
  {
   "metadata": {},
   "cell_type": "code",
   "outputs": [],
   "execution_count": null,
   "source": "",
   "id": "a2b3fdf98627a259"
  }
 ],
 "metadata": {
  "kernelspec": {
   "display_name": "Python 3",
   "language": "python",
   "name": "python3"
  },
  "language_info": {
   "codemirror_mode": {
    "name": "ipython",
    "version": 2
   },
   "file_extension": ".py",
   "mimetype": "text/x-python",
   "name": "python",
   "nbconvert_exporter": "python",
   "pygments_lexer": "ipython2",
   "version": "2.7.6"
  }
 },
 "nbformat": 4,
 "nbformat_minor": 5
}
