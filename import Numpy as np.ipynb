{
 "cells": [
  {
   "cell_type": "code",
   "id": "initial_id",
   "metadata": {
    "collapsed": true,
    "ExecuteTime": {
     "end_time": "2025-01-25T08:21:01.942369Z",
     "start_time": "2025-01-25T08:21:01.938578Z"
    }
   },
   "source": [
    "#   通过for循环和zip并行迭代来将两个列表中的元素相加\n",
    "\"\"\"\n",
    "python_list1 = [1, 2, 3, 4]\n",
    "python_list2 = [5, 6, 7, 8]\n",
    "\n",
    "print( python_list1 + python_list2 )\n",
    "# 结果为两个列表中的元素合并为一个列表，而不是将其中的元素相加\n",
    "\n",
    "python_list3 = [(i1 + i2) for i1,i2 in zip(python_list1, python_list2)]\n",
    "print(python_list3)\n",
    "\n",
    "import numpy as np\n",
    "\n",
    "numpy_array1 = np.array([1,2,3,4])\n",
    "numpy_array2 = np.array([5,6,7,8])\n",
    "print(numpy_array1 + numpy_array2)\n",
    "\n",
    "list_long = list(range(1000000))\n",
    "%timeit [(item * 2) for item in list_long]\n",
    "\n",
    "array_long = np.array(list_long)\n",
    "%timeit array_long * 2\n",
    "\n",
    "import numpy as np\n",
    "a1 = np.array([[1,2,3],[5,6,7]])\n",
    "a2 = np.array([[9,10],[11,12],[13,14]])\n",
    "\n",
    "output = a1.dot(a2)\n",
    "print(output)\n",
    "\n",
    "a1\n",
    "transpose = a1.T\n",
    "print(transpose)\n",
    "\n",
    "import numpy as np\n",
    "# 创建matrix\n",
    "# np.matrix()\n",
    "a = np.matrix([[2,5],\n",
    "            [-3,-7]])\n",
    "print(np.linalg.inv(a))\n",
    "\"\"\"\n",
    "#   利用矩阵的逆求解二元方程x+y =15   2x+4y =40\n",
    "\n",
    "import numpy as np\n",
    "a =np.matrix([[1,1],\n",
    "              [2,4]])\n",
    "b =np.matrix([[15],[40]])\n",
    "print(np.linalg.inv(a) *b)\n"
   ],
   "outputs": [
    {
     "name": "stdout",
     "output_type": "stream",
     "text": [
      "[[10.]\n",
      " [ 5.]]\n"
     ]
    }
   ],
   "execution_count": 12
  },
  {
   "metadata": {
    "ExecuteTime": {
     "end_time": "2025-01-24T07:18:36.197593Z",
     "start_time": "2025-01-24T07:18:36.196304Z"
    }
   },
   "cell_type": "code",
   "source": "",
   "id": "a62e2154ca801c83",
   "outputs": [],
   "execution_count": null
  }
 ],
 "metadata": {
  "kernelspec": {
   "display_name": "Python 3",
   "language": "python",
   "name": "python3"
  },
  "language_info": {
   "codemirror_mode": {
    "name": "ipython",
    "version": 2
   },
   "file_extension": ".py",
   "mimetype": "text/x-python",
   "name": "python",
   "nbconvert_exporter": "python",
   "pygments_lexer": "ipython2",
   "version": "2.7.6"
  }
 },
 "nbformat": 4,
 "nbformat_minor": 5
}
